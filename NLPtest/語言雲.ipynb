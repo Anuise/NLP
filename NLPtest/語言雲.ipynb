{
 "cells": [
  {
   "cell_type": "code",
   "execution_count": 3,
   "metadata": {},
   "outputs": [
    {
     "name": "stdout",
     "output_type": "stream",
     "text": [
      "小明和小美去旅館打砲\n",
      "{\"code\":\"0\",\"data\":{\"sdgp\":[{\"id\":0,\"parent\":3,\"relate\":\"Agt\"},{\"id\":0,\"parent\":4,\"relate\":\"Agt\"},{\"id\":1,\"parent\":2,\"relate\":\"mConj\"},{\"id\":2,\"parent\":0,\"relate\":\"eCoo\"},{\"id\":3,\"parent\":-1,\"relate\":\"Root\"},{\"id\":4,\"parent\":3,\"relate\":\"ePurp\"},{\"id\":5,\"parent\":4,\"relate\":\"Datv\"}]},\"desc\":\"success\",\"sid\":\"ltp000327f7@dx20b40fab50ba000100\"}\n"
     ]
    }
   ],
   "source": [
    "import time\n",
    "import urllib.request\n",
    "import urllib.parse\n",
    "import json\n",
    "import hashlib\n",
    "import base64\n",
    "\n",
    "def main():\n",
    "    context='小明和小美去旅館打砲'\n",
    "    #BODY填需要分析的文本，長度限制為500(簡中)\n",
    "    body = urllib.parse.urlencode({'text': context }).encode('utf-8')\n",
    "    \n",
    "    #API接口 http://ltpapi.xfyun.cn/v1/{func}  \n",
    "    #{func}替換成想要的功能，如中文分詞(cws) URL則改為>>http://ltpapi.xfyun.cn/v1/cws\n",
    "    #詳見>>https://doc.xfyun.cn/rest_api/%E8%87%AA%E7%84%B6%E8%AF%AD%E8%A8%80%E5%9F%BA%E7%A1%80%E5%A4%84%E7%90%86.html\n",
    "    url = 'http://ltpapi.xfyun.cn/v1/sdgp'\n",
    "    \n",
    "    #申請的KEY\n",
    "    api_key = '7a21e7b6800f623322880f488b66369a'\n",
    "    param = {\"type\": \"dependent\"}\n",
    "\n",
    "    #申請的應用ID(APPID)，非API KEY\n",
    "    x_appid = '5c495e5e'\n",
    "\n",
    "    x_param = base64.b64encode(json.dumps(param).replace(' ', '').encode('utf-8'))\n",
    "    x_time = int(int(round(time.time() * 1000)) / 1000)\n",
    "    x_checksum = hashlib.md5(api_key.encode('utf-8') + str(x_time).encode('utf-8') + x_param).hexdigest()\n",
    "    x_header = {'X-Appid': x_appid,\n",
    "                'X-CurTime': x_time,\n",
    "                'X-Param': x_param,\n",
    "                'X-CheckSum': x_checksum}\n",
    "    req = urllib.request.Request(url, body, x_header)\n",
    "    result = urllib.request.urlopen(req)\n",
    "    result = result.read()\n",
    "    print(context)\n",
    "    print(result.decode('utf-8'))\n",
    "    return\n",
    "\n",
    "\n",
    "if __name__ == '__main__':\n",
    "    main()"
   ]
  },
  {
   "cell_type": "code",
   "execution_count": null,
   "metadata": {},
   "outputs": [],
   "source": []
  }
 ],
 "metadata": {
  "kernelspec": {
   "display_name": "Python 3",
   "language": "python",
   "name": "python3"
  },
  "language_info": {
   "codemirror_mode": {
    "name": "ipython",
    "version": 3
   },
   "file_extension": ".py",
   "mimetype": "text/x-python",
   "name": "python",
   "nbconvert_exporter": "python",
   "pygments_lexer": "ipython3",
   "version": "3.6.5"
  }
 },
 "nbformat": 4,
 "nbformat_minor": 2
}
