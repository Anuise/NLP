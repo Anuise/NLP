{
 "cells": [
  {
   "cell_type": "code",
   "execution_count": 6,
   "metadata": {},
   "outputs": [],
   "source": [
    "from pyhanlp import *"
   ]
  },
  {
   "cell_type": "code",
   "execution_count": 7,
   "metadata": {},
   "outputs": [],
   "source": [
    "test = \"我是鐵鎚守護者，我要保護台灣\""
   ]
  },
  {
   "cell_type": "code",
   "execution_count": 13,
   "metadata": {},
   "outputs": [
    {
     "name": "stdout",
     "output_type": "stream",
     "text": [
      "[我/rr, 是/vshi, 鐵鎚/n, 守/v, 護/n, 者/k, ，/w, 我/rr, 要/v, 保護/vn, 台/q, 灣/w]\n"
     ]
    }
   ],
   "source": [
    "print(HanLP.segment(test))"
   ]
  },
  {
   "cell_type": "code",
   "execution_count": 14,
   "metadata": {},
   "outputs": [
    {
     "name": "stdout",
     "output_type": "stream",
     "text": [
      "1\t我\t我\tr\tr\t_\t2\t主谓关系\t_\t_\n",
      "2\t是\t是\tv\tv\t_\t0\t核心关系\t_\t_\n",
      "3\t鐵鎚\t鐵鎚\tn\tn\t_\t4\t定中关系\t_\t_\n",
      "4\t守護者\t守護者\tn\tn\t_\t2\t动宾关系\t_\t_\n",
      "5\t，\t，\twp\tw\t_\t2\t标点符号\t_\t_\n",
      "6\t我\t我\tr\tr\t_\t8\t主谓关系\t_\t_\n",
      "7\t要\t要\tv\tv\t_\t8\t状中结构\t_\t_\n",
      "8\t保護\t保護\tv\tv\t_\t2\t并列关系\t_\t_\n",
      "9\t台灣\t台灣\tns\tns\t_\t8\t动宾关系\t_\t_\n",
      "\n"
     ]
    }
   ],
   "source": [
    "print(HanLP.parseDependency(test))"
   ]
  }
 ],
 "metadata": {
  "kernelspec": {
   "display_name": "Python 3",
   "language": "python",
   "name": "python3"
  },
  "language_info": {
   "codemirror_mode": {
    "name": "ipython",
    "version": 3
   },
   "file_extension": ".py",
   "mimetype": "text/x-python",
   "name": "python",
   "nbconvert_exporter": "python",
   "pygments_lexer": "ipython3",
   "version": "3.6.8"
  }
 },
 "nbformat": 4,
 "nbformat_minor": 2
}
